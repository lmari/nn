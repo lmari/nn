{
 "cells": [
  {
   "attachments": {},
   "cell_type": "markdown",
   "metadata": {},
   "source": [
    "# Solutore polinomiale\n",
    "#### (versione con numpy)\n",
    "\n",
    "Luca Mari, marzo 2023\n",
    "\n",
    "Questo solutore approssima funzioni $\\mathbb{R} \\rightarrow \\mathbb{R}$, per esempio $sin(x)$ tra $-\\pi$ e $\\pi$, mediante un polinomio di grado $n$, di cui stima i parametri."
   ]
  },
  {
   "cell_type": "code",
   "execution_count": 16,
   "metadata": {},
   "outputs": [],
   "source": [
    "import numpy as np\n",
    "import matplotlib.pyplot as plt"
   ]
  },
  {
   "attachments": {},
   "cell_type": "markdown",
   "metadata": {},
   "source": [
    "Decidi la funzione -- che nella fase di test si supporrà ignota, ovviamente -- da approssimare."
   ]
  },
  {
   "cell_type": "code",
   "execution_count": 17,
   "metadata": {},
   "outputs": [],
   "source": [
    "the_fun = lambda x: np.sin(x)   # la funzione da approssimare\n",
    "the_min = -np.pi                # l'argomento minimo\n",
    "the_max = np.pi                 # l'argomento massimo\n",
    "num_pts = 1000\n",
    "\n",
    "x = np.linspace(the_min, the_max, num_pts)\n",
    "y = the_fun(x)"
   ]
  },
  {
   "attachments": {},
   "cell_type": "markdown",
   "metadata": {},
   "source": [
    "Decidi il grado del polinomio, la dimensione del training set e il _learning rate_."
   ]
  },
  {
   "cell_type": "code",
   "execution_count": 18,
   "metadata": {},
   "outputs": [],
   "source": [
    "n = 4                           # grado del polinomio approssimante\n",
    "trainingset_size = 5000         # numero di datapoint per ogni addestramento\n",
    "learning_rate = 1e-6"
   ]
  },
  {
   "cell_type": "markdown",
   "metadata": {},
   "source": [
    "Definisci la funzione di addestramento, per prima cosa inizializzando i parametri del polinomio come valori casuali da una gaussiana standard."
   ]
  },
  {
   "cell_type": "code",
   "execution_count": 19,
   "metadata": {},
   "outputs": [],
   "source": [
    "def train(x:np.ndarray, y:np.ndarray, n:int, trainingset_size:int, learning_rate:float, log:bool=False) -> np.ndarray:\n",
    "    w = np.random.standard_normal(size=n)\n",
    "    poly = np.ndarray((n, len(x)))\n",
    "    grad = np.ndarray(n)\n",
    "\n",
    "    if log: print('step\\tmse')\n",
    "\n",
    "    for i in range(trainingset_size):\n",
    "        for j in range(n): poly[j] = np.power(x, j)         # forward pass\n",
    "        y_pred = w.T @ poly\n",
    "\n",
    "        if log:                                             # calcola e visualizza l'errore\n",
    "            mse = np.square(y_pred - y).sum()\n",
    "            if i % 1000 == 0: print(f'{i}\\t{mse:.5f}')\n",
    "\n",
    "        grad_y_pred = 2.0 * (y_pred - y)                    # back propagation\n",
    "        for j in range(n): grad[j] = (grad_y_pred * np.power(x, j)).sum()\n",
    "\n",
    "        for j in range(n): w[j] -= learning_rate * grad[j]  # aggiorna i pesi\n",
    "    return w"
   ]
  },
  {
   "attachments": {},
   "cell_type": "markdown",
   "metadata": {},
   "source": [
    "E finalmente esegui il processo di apprendimento, e quindi calcola e visualizza il polinomio, confrontandolo con la funzione da approssimare."
   ]
  },
  {
   "cell_type": "code",
   "execution_count": 20,
   "metadata": {},
   "outputs": [
    {
     "name": "stdout",
     "output_type": "stream",
     "text": [
      "step\tmse\n",
      "0\t3356.98074\n",
      "1000\t223.12194\n",
      "2000\t42.42737\n",
      "3000\t11.06960\n",
      "4000\t5.59329\n"
     ]
    },
    {
     "data": {
      "image/png": "[encoded data removed]",
      "text/plain": [
       "<Figure size 432x288 with 1 Axes>"
      ]
     },
     "metadata": {
      "needs_background": "light"
     },
     "output_type": "display_data"
    }
   ],
   "source": [
    "w = train(x, y, n, trainingset_size, learning_rate, True)\n",
    "\n",
    "yy = np.zeros(num_pts)\n",
    "for j in range(n): yy += w[j] * np.power(x, j)\n",
    "\n",
    "plt.plot(x, y)\n",
    "plt.plot(x, yy)\n",
    "plt.show()"
   ]
  }
 ],
 "metadata": {
  "kernelspec": {
   "display_name": "base",
   "language": "python",
   "name": "python3"
  },
  "language_info": {
   "codemirror_mode": {
    "name": "ipython",
    "version": 3
   },
   "file_extension": ".py",
   "mimetype": "text/x-python",
   "name": "python",
   "nbconvert_exporter": "python",
   "pygments_lexer": "ipython3",
   "version": "3.9.15"
  },
  "orig_nbformat": 4
 },
 "nbformat": 4,
 "nbformat_minor": 2
}
