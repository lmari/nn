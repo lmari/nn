{
 "cells": [
  {
   "attachments": {},
   "cell_type": "markdown",
   "metadata": {},
   "source": [
    "# Solutore polinomiale\n",
    "#### (versione con numpy)\n",
    "\n",
    "Luca Mari, marzo 2023\n",
    "\n",
    "Questo solutore approssima funzioni $\\mathbb{R} \\rightarrow \\mathbb{R}$, per esempio $sin(x)$ tra $-\\pi$ e $\\pi$, mediante un polinomio di grado $n$, di cui stima i parametri."
   ]
  },
  {
   "cell_type": "code",
   "execution_count": 73,
   "metadata": {},
   "outputs": [],
   "source": [
    "import numpy as np\n",
    "import matplotlib.pyplot as plt"
   ]
  },
  {
   "attachments": {},
   "cell_type": "markdown",
   "metadata": {},
   "source": [
    "Decidi la funzione -- che nella fase di test si supporrà ignota, ovviamente -- da approssimare."
   ]
  },
  {
   "cell_type": "code",
   "execution_count": 74,
   "metadata": {},
   "outputs": [],
   "source": [
    "the_fun = lambda x: np.sin(x)   # funzione da approssimare\n",
    "the_min = -np.pi                # argomento minimo\n",
    "the_max = np.pi                 # argomento massimo\n",
    "num_pts = 1000                  # numero di argomenti in cui calcolare la funzione\n",
    "\n",
    "x = np.linspace(the_min, the_max, num_pts)\n",
    "y = the_fun(x)"
   ]
  },
  {
   "attachments": {},
   "cell_type": "markdown",
   "metadata": {},
   "source": [
    "Decidi il grado $n$ del polinomio, numero di ripetizioni $q$ (\"epoche\") dell'addestramento, e il _learning rate_."
   ]
  },
  {
   "cell_type": "code",
   "execution_count": 75,
   "metadata": {},
   "outputs": [],
   "source": [
    "n = 3                           # grado del polinomio approssimante\n",
    "q = 5000                        # numero di ripetizioni (\"epoche\") dell'addestramento\n",
    "lr = 1e-6                       # learning rate"
   ]
  },
  {
   "attachments": {},
   "cell_type": "markdown",
   "metadata": {},
   "source": [
    "Definisci la funzione di addestramento, che:\n",
    "* inizializza i parametri $w_j$ del polinomio di grado $n$ come valori casuali da una gaussiana standard;\n",
    "* per ogni $x$ del training set, calcola il valore del polinomio, $f_w(x) = y_{pred} = \\sum \\limits_{j=0}^n w_j x^j$;\n",
    "* opzionalmente, calcola e visualizza l'errore quadratico (sse, _sum squared error_), $g_w(x) = \\sum \\limits_{k=1}^m (y_{pred} - y)^2$;\n",
    "* propaga all'indietro l'errore, calcolando i valori della derivata della funzione composta $h_w(x) = g_w(f_w(x))$ in funzione di $w$ con la _chain rule_, $h'_w(x) = g'_w(f_w(x)) f'_w(x)$, in cui\n",
    "  * $g'_w(f_w(x)) = 2 (y_{pred} - y)$ e\n",
    "  * per ogni elemento $j$ del polinomio, $w_j x^j$, la sua derivata rispetto a $w_j$ è ovviamente $f'_{w_j}(x) = x^j$;\n",
    "* per ogni $j$, aggiorna il parametro $w_j$ al nuovo valore $w_i - l h'_{w_j}(x)$, dove $l$ è il _learning rate_;\n",
    "* ripete il processo per $q$ volte."
   ]
  },
  {
   "cell_type": "code",
   "execution_count": 76,
   "metadata": {},
   "outputs": [],
   "source": [
    "def train(x:np.ndarray, y:np.ndarray, n1:int, q:int, lr:float, log:bool=False) -> np.ndarray:\n",
    "    w = np.random.standard_normal(size=n1)\n",
    "    poly = np.ndarray((n1, len(x)))\n",
    "    grad = np.ndarray(n1)\n",
    "\n",
    "    if log: print('step\\tmse')\n",
    "\n",
    "    for i in range(q):\n",
    "        for j in range(n1): poly[j] = np.power(x, j)         # forward pass\n",
    "        y_pred = w.T @ poly\n",
    "\n",
    "        if log:                                             # calcola e visualizza l'errore\n",
    "            sse = np.square(y_pred - y).sum()\n",
    "            if i % 1000 == 0: print(f'{i}\\t{sse:.5f}')\n",
    "\n",
    "        grad_y_pred = 2.0 * (y_pred - y)                    # backpropagation\n",
    "        for j in range(n1): grad[j] = (grad_y_pred * np.power(x, j)).sum()\n",
    "\n",
    "        w -= lr * grad  # aggiorna i pesi\n",
    "    return w"
   ]
  },
  {
   "attachments": {},
   "cell_type": "markdown",
   "metadata": {},
   "source": [
    "E finalmente esegui il processo di apprendimento, e quindi calcola e visualizza il polinomio, confrontandolo con la funzione da approssimare."
   ]
  },
  {
   "cell_type": "code",
   "execution_count": 77,
   "metadata": {},
   "outputs": [
    {
     "name": "stdout",
     "output_type": "stream",
     "text": [
      "step\tmse\n",
      "0\t26872.72715\n",
      "1000\t266.66915\n",
      "2000\t44.19049\n",
      "3000\t10.62876\n",
      "4000\t5.41979\n"
     ]
    },
    {
     "data": {
      "image/png": "[encoded data removed]",
      "text/plain": [
       "<Figure size 432x288 with 1 Axes>"
      ]
     },
     "metadata": {
      "needs_background": "light"
     },
     "output_type": "display_data"
    }
   ],
   "source": [
    "w = train(x, y, n+1, q, lr, True)\n",
    "\n",
    "yy = np.zeros(num_pts)\n",
    "for j in range(n+1): yy += w[j] * np.power(x, j)\n",
    "\n",
    "plt.plot(x, y)\n",
    "plt.plot(x, yy)\n",
    "plt.show()"
   ]
  }
 ],
 "metadata": {
  "kernelspec": {
   "display_name": "base",
   "language": "python",
   "name": "python3"
  },
  "language_info": {
   "codemirror_mode": {
    "name": "ipython",
    "version": 3
   },
   "file_extension": ".py",
   "mimetype": "text/x-python",
   "name": "python",
   "nbconvert_exporter": "python",
   "pygments_lexer": "ipython3",
   "version": "3.9.15"
  },
  "orig_nbformat": 4
 },
 "nbformat": 4,
 "nbformat_minor": 2
}
