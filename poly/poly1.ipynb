{
 "cells": [
  {
   "attachments": {},
   "cell_type": "markdown",
   "metadata": {},
   "source": [
    "# Solutore polinomiale\n",
    "#### (versione con numpy)\n",
    "\n",
    "Luca Mari, marzo 2023\n",
    "\n",
    "Questo solutore approssima funzioni $\\mathbb{R} \\rightarrow \\mathbb{R}$, per esempio $sin(x)$ tra $-\\pi$ e $\\pi$, mediante un polinomio di grado $n$, di cui stima i parametri."
   ]
  },
  {
   "cell_type": "code",
   "execution_count": 347,
   "metadata": {},
   "outputs": [],
   "source": [
    "import numpy as np\n",
    "import matplotlib.pyplot as plt"
   ]
  },
  {
   "attachments": {},
   "cell_type": "markdown",
   "metadata": {},
   "source": [
    "La funzione -- che nella fase di test si supporrà ignota, ovviamente -- da approssimare:"
   ]
  },
  {
   "cell_type": "code",
   "execution_count": 348,
   "metadata": {},
   "outputs": [],
   "source": [
    "the_fun = lambda x: np.sin(x)   # la funzione da approssimare\n",
    "the_min = -np.pi                # l'argomento minimo\n",
    "the_max = np.pi                 # l'argomento massimo\n",
    "\n",
    "x = np.linspace(the_min, the_max, 2000)\n",
    "y = the_fun(x)"
   ]
  },
  {
   "attachments": {},
   "cell_type": "markdown",
   "metadata": {},
   "source": [
    "Inizializza il grado del polinomio e i relativi parametri, come valori casuali da una gaussiana standard, e decidi il _learning rate_ e la dimensione del training set:"
   ]
  },
  {
   "cell_type": "code",
   "execution_count": 349,
   "metadata": {},
   "outputs": [],
   "source": [
    "n = 4                           # grado del polinomio approssimante\n",
    "trainingset_size = 10000        # numero di datapoint per ogni addestramento\n",
    "learning_rate = 1e-6"
   ]
  },
  {
   "cell_type": "code",
   "execution_count": 350,
   "metadata": {},
   "outputs": [],
   "source": [
    "def train(x:np.ndarray, y:np.ndarray, n:int, trainingset_size:int, learning_rate:float, log:bool=False) -> np.ndarray:\n",
    "    w = np.random.standard_normal(size=n)\n",
    "    poly = np.ndarray((n, len(x)))\n",
    "    grad = np.ndarray(n)\n",
    "\n",
    "    for i in range(trainingset_size):\n",
    "        for j in range(n): poly[j] = np.power(x, j)         # forward pass\n",
    "        y_pred = w.T @ poly\n",
    "\n",
    "        if log:                                             # calcola e visualizza l'errore\n",
    "            mse = np.square(y_pred - y).sum()\n",
    "            if i % 1000 == 0: print(i, mse)\n",
    "\n",
    "        grad_y_pred = 2.0 * (y_pred - y)                    # back propagation\n",
    "        for j in range(n): grad[j] = (grad_y_pred * np.power(x, j)).sum()\n",
    "\n",
    "        for j in range(n): w[j] -= learning_rate * grad[j]  # aggiorna i pesi\n",
    "    return w"
   ]
  },
  {
   "cell_type": "code",
   "execution_count": 351,
   "metadata": {},
   "outputs": [
    {
     "name": "stdout",
     "output_type": "stream",
     "text": [
      "0 723337.8270640941\n",
      "1000 40.96572456217054\n",
      "2000 9.490897920386129\n",
      "3000 8.832969450575051\n",
      "4000 8.817576597328074\n",
      "5000 8.817176976528922\n",
      "6000 8.817165752167044\n",
      "7000 8.81716542042938\n",
      "8000 8.817165410329608\n",
      "9000 8.817165410017095\n"
     ]
    },
    {
     "data": {
      "image/png": "[encoded data removed]",
      "text/plain": [
       "<Figure size 432x288 with 1 Axes>"
      ]
     },
     "metadata": {
      "needs_background": "light"
     },
     "output_type": "display_data"
    }
   ],
   "source": [
    "w = train(x, y, n, trainingset_size, learning_rate, True)\n",
    "\n",
    "yy = np.zeros(2000)\n",
    "for j in range(n): yy += w[j] * np.power(x, j)\n",
    "\n",
    "plt.plot(x, y)\n",
    "plt.plot(x, yy)\n",
    "plt.show()"
   ]
  }
 ],
 "metadata": {
  "kernelspec": {
   "display_name": "base",
   "language": "python",
   "name": "python3"
  },
  "language_info": {
   "codemirror_mode": {
    "name": "ipython",
    "version": 3
   },
   "file_extension": ".py",
   "mimetype": "text/x-python",
   "name": "python",
   "nbconvert_exporter": "python",
   "pygments_lexer": "ipython3",
   "version": "3.9.15"
  },
  "orig_nbformat": 4
 },
 "nbformat": 4,
 "nbformat_minor": 2
}
