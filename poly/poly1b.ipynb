{
 "cells": [
  {
   "attachments": {},
   "cell_type": "markdown",
   "metadata": {},
   "source": [
    "# Solutore polinomiale\n",
    "#### (versione con torch)\n",
    "\n",
    "Luca Mari, aprile 2023\n",
    "\n",
    "Questo solutore approssima funzioni $\\mathbb{R} \\rightarrow \\mathbb{R}$, per esempio $sin(x)$ tra $-\\pi$ e $\\pi$, mediante un polinomio di grado $n$, di cui stima i parametri."
   ]
  },
  {
   "cell_type": "code",
   "execution_count": 61,
   "metadata": {},
   "outputs": [],
   "source": [
    "import numpy as np\n",
    "import torch\n",
    "import matplotlib.pyplot as plt\n",
    "\n",
    "#device = torch.device(\"cpu\")\n",
    "device = torch.device(\"cuda:0\")\n",
    "dtype = torch.float"
   ]
  },
  {
   "attachments": {},
   "cell_type": "markdown",
   "metadata": {},
   "source": [
    "Decidi la funzione -- che nella fase di test si supporrà ignota, ovviamente -- da approssimare."
   ]
  },
  {
   "cell_type": "code",
   "execution_count": 62,
   "metadata": {},
   "outputs": [],
   "source": [
    "the_fun = lambda x: torch.sin(x)    # la funzione da approssimare\n",
    "the_min = -np.pi                    # l'argomento minimo\n",
    "the_max = np.pi                     # l'argomento massimo\n",
    "num_pts = 1000\n",
    "\n",
    "x = torch.linspace(the_min, the_max, num_pts, device=device, dtype=dtype)\n",
    "y = the_fun(x)"
   ]
  },
  {
   "attachments": {},
   "cell_type": "markdown",
   "metadata": {},
   "source": [
    "Decidi il grado del polinomio, la dimensione del training set e il _learning rate_."
   ]
  },
  {
   "cell_type": "code",
   "execution_count": 63,
   "metadata": {},
   "outputs": [],
   "source": [
    "n = 4                           # grado del polinomio approssimante\n",
    "trainingset_size = 5000         # numero di datapoint per ogni addestramento\n",
    "learning_rate = 1e-6"
   ]
  },
  {
   "attachments": {},
   "cell_type": "markdown",
   "metadata": {},
   "source": [
    "Definisci la funzione di addestramento, per prima cosa inizializzando i parametri del polinomio come valori casuali da una gaussiana standard."
   ]
  },
  {
   "cell_type": "code",
   "execution_count": 64,
   "metadata": {},
   "outputs": [],
   "source": [
    "def train(x, y, n:int, trainingset_size:int, learning_rate:float, log:bool=False):\n",
    "    w = torch.randn(size=[n], device=device, dtype=dtype)\n",
    "\n",
    "    poly = torch.zeros(size=[n, len(x)], device=device, dtype=dtype)\n",
    "    grad = torch.zeros(size=[n], device=device, dtype=dtype)\n",
    "\n",
    "    for i in range(trainingset_size):\n",
    "        for j in range(n): poly[j] = x.pow(j)               # forward pass\n",
    "        y_pred = w.T @ poly\n",
    "\n",
    "        if log:                                             # calcola e visualizza l'errore\n",
    "            mse = (y_pred - y).pow(2).sum().item()\n",
    "            if i % 1000 == 0: print(i, mse)\n",
    "\n",
    "        grad_y_pred = 2.0 * (y_pred - y)                    # back propagation\n",
    "        for j in range(n): grad[j] = (grad_y_pred * x.pow(j)).sum()\n",
    "\n",
    "        for j in range(n): w[j] -= learning_rate * grad[j]  # aggiorna i pesi\n",
    "    return w"
   ]
  },
  {
   "attachments": {},
   "cell_type": "markdown",
   "metadata": {},
   "source": [
    "E finalmente esegui il processo di apprendimento, e quindi calcola e visualizza il polinomio, confrontandolo con la funzione da approssimare."
   ]
  },
  {
   "cell_type": "code",
   "execution_count": 65,
   "metadata": {},
   "outputs": [
    {
     "name": "stdout",
     "output_type": "stream",
     "text": [
      "0 18166.125\n",
      "1000 426.92681884765625\n",
      "2000 60.66225814819336\n",
      "3000 12.040040969848633\n",
      "4000 5.479238510131836\n"
     ]
    },
    {
     "data": {
      "image/png": "[encoded data removed]",
      "text/plain": [
       "<Figure size 432x288 with 1 Axes>"
      ]
     },
     "metadata": {
      "needs_background": "light"
     },
     "output_type": "display_data"
    }
   ],
   "source": [
    "w = train(x, y, n, trainingset_size, learning_rate, True)\n",
    "\n",
    "yy = torch.zeros(num_pts, device=device, dtype=dtype)\n",
    "for j in range(n): yy += w[j] * x.pow(j)\n",
    "\n",
    "xx = x.detach().cpu().numpy()\n",
    "y = y.detach().cpu().numpy()\n",
    "yy = yy.detach().cpu().numpy()\n",
    "\n",
    "plt.plot(xx, y)\n",
    "plt.plot(xx, yy)\n",
    "plt.show()"
   ]
  }
 ],
 "metadata": {
  "kernelspec": {
   "display_name": "base",
   "language": "python",
   "name": "python3"
  },
  "language_info": {
   "codemirror_mode": {
    "name": "ipython",
    "version": 3
   },
   "file_extension": ".py",
   "mimetype": "text/x-python",
   "name": "python",
   "nbconvert_exporter": "python",
   "pygments_lexer": "ipython3",
   "version": "3.9.15"
  },
  "orig_nbformat": 4
 },
 "nbformat": 4,
 "nbformat_minor": 2
}
