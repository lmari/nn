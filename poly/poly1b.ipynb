{
 "cells": [
  {
   "attachments": {},
   "cell_type": "markdown",
   "metadata": {},
   "source": [
    "# Solutore polinomiale\n",
    "#### (versione con pytorch)\n",
    "\n",
    "Luca Mari, aprile 2023\n",
    "\n",
    "Questo solutore approssima funzioni $\\mathbb{R} \\rightarrow \\mathbb{R}$, per esempio $sin(x)$ tra $-\\pi$ e $\\pi$, mediante un polinomio di grado $n$, di cui stima i parametri.  \n",
    "Per una documentazione più analitica, vedi il notebook con la versione per `numpy`."
   ]
  },
  {
   "cell_type": "code",
   "execution_count": 1,
   "metadata": {},
   "outputs": [],
   "source": [
    "import numpy as np\n",
    "import torch\n",
    "import matplotlib.pyplot as plt\n",
    "\n",
    "#device = torch.device(\"cpu\")\n",
    "device = torch.device(\"cuda:0\")\n",
    "dtype = torch.float"
   ]
  },
  {
   "attachments": {},
   "cell_type": "markdown",
   "metadata": {},
   "source": [
    "Decidi la funzione -- che nella fase di test si supporrà ignota, ovviamente -- da approssimare."
   ]
  },
  {
   "cell_type": "code",
   "execution_count": 2,
   "metadata": {},
   "outputs": [],
   "source": [
    "the_fun = lambda x: torch.cos(x)    # la funzione da approssimare\n",
    "the_min = -np.pi                    # l'argomento minimo\n",
    "the_max = np.pi                     # l'argomento massimo\n",
    "num_pts = 1000\n",
    "\n",
    "x = torch.linspace(the_min, the_max, num_pts, device=device, dtype=dtype)\n",
    "y = the_fun(x)"
   ]
  },
  {
   "attachments": {},
   "cell_type": "markdown",
   "metadata": {},
   "source": [
    "Decidi il grado del polinomio, la dimensione del training set e il _learning rate_."
   ]
  },
  {
   "cell_type": "code",
   "execution_count": 3,
   "metadata": {},
   "outputs": [],
   "source": [
    "n = 4                           # grado del polinomio approssimante\n",
    "q = 10000                       # numero di ripetizioni (\"epoche\") dell'addestramento\n",
    "lr = 1e-7                       # learning rate"
   ]
  },
  {
   "attachments": {},
   "cell_type": "markdown",
   "metadata": {},
   "source": [
    "Definisci la funzione di addestramento."
   ]
  },
  {
   "cell_type": "code",
   "execution_count": 4,
   "metadata": {},
   "outputs": [],
   "source": [
    "def train(x, y, n1:int, q:int, lr:float, log:bool=False):\n",
    "    w = torch.randn(size=[n1], device=device, dtype=dtype)\n",
    "    poly = torch.zeros(size=[n1, len(x)], device=device, dtype=dtype)\n",
    "    grad = torch.zeros(size=[n1], device=device, dtype=dtype)\n",
    "    \n",
    "    if log: print('step\\tmse')\n",
    "\n",
    "    for i in range(q):\n",
    "        for j in range(n1): poly[j] = x.pow(j)               # forward pass\n",
    "        y_pred = w.unsqueeze(0) @ poly\n",
    "\n",
    "        if log:                                             # calcola e visualizza l'errore\n",
    "            sse = (y_pred - y).pow(2).sum().item()\n",
    "            if i % 1000 == 0: print(f'{i}\\t{sse:.5f}')\n",
    "\n",
    "        grad_y_pred = 2.0 * (y_pred - y)                    # back propagation\n",
    "        for j in range(n1): grad[j] = (grad_y_pred * x.pow(j)).sum()\n",
    "\n",
    "        w -= lr * grad  # aggiorna i pesi\n",
    "    return w"
   ]
  },
  {
   "attachments": {},
   "cell_type": "markdown",
   "metadata": {},
   "source": [
    "Esegui il processo di apprendimento, e quindi calcola e visualizza il polinomio, confrontandolo con la funzione da approssimare."
   ]
  },
  {
   "cell_type": "code",
   "execution_count": 5,
   "metadata": {},
   "outputs": [
    {
     "name": "stdout",
     "output_type": "stream",
     "text": [
      "step\tmse\n",
      "0\t5376871.00000\n",
      "1000\t1504.40247\n",
      "2000\t1341.46509\n",
      "3000\t1206.74731\n",
      "4000\t1090.81299\n",
      "5000\t988.73328\n",
      "6000\t897.70032\n",
      "7000\t815.93787\n",
      "8000\t742.19794\n",
      "9000\t675.52423\n"
     ]
    },
    {
     "data": {
      "image/png": "[encoded data removed]",
      "text/plain": [
       "<Figure size 432x288 with 1 Axes>"
      ]
     },
     "metadata": {
      "needs_background": "light"
     },
     "output_type": "display_data"
    }
   ],
   "source": [
    "w = train(x, y, n+1, q, lr, True)\n",
    "\n",
    "yy = torch.zeros(num_pts, device=device, dtype=dtype)\n",
    "for j in range(n+1): yy += w[j] * x.pow(j)\n",
    "\n",
    "xx = x.detach().cpu().numpy()\n",
    "y = y.detach().cpu().numpy()\n",
    "yy = yy.detach().cpu().numpy()\n",
    "\n",
    "plt.plot(xx, y)\n",
    "plt.plot(xx, yy)\n",
    "plt.show()"
   ]
  }
 ],
 "metadata": {
  "kernelspec": {
   "display_name": "base",
   "language": "python",
   "name": "python3"
  },
  "language_info": {
   "codemirror_mode": {
    "name": "ipython",
    "version": 3
   },
   "file_extension": ".py",
   "mimetype": "text/x-python",
   "name": "python",
   "nbconvert_exporter": "python",
   "pygments_lexer": "ipython3",
   "version": "3.9.15"
  },
  "orig_nbformat": 4
 },
 "nbformat": 4,
 "nbformat_minor": 2
}
