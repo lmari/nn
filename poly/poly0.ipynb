{
 "cells": [
  {
   "attachments": {},
   "cell_type": "markdown",
   "metadata": {},
   "source": [
    "## Una semplice rete neurale per approssimare numericamente funzioni reali\n",
    "Luca Mari, marzo 2023  \n",
    "[virtenv `nn`: numpy, matplotlib]\n",
    "\n",
    "L'implementazione in `numpy` di una semplice rete neurale -- con un neurone di input, uno strato nascosto, e un neurone di output -- per approssimare funzioni $\\mathbb{R} \\rightarrow \\mathbb{R}$, per esempio $sin(x)$ tra $-\\pi$ e $\\pi$.  \n",
    "Una volta che sia stata addestrata, la rete dovrebbe calcolare il valore $f(x)$ corrispondente a ogni argomento $x$ dato in input."
   ]
  },
  {
   "attachments": {},
   "cell_type": "markdown",
   "metadata": {},
   "source": [
    "Inizializziamo il contesto, la struttura e i parametri della rete.  \n",
    "La rete ha dunque tre strati: L0 (1 neurone), L1 (`layer_size` neuroni), L2 (1 neurone),  \n",
    "in cui:\n",
    "* L0 riceve l'argomento $x$,\n",
    "* L1 calcola una funzione $f_0$ che per il neurone $i$-esimo è $l_i = \\sigma(w_{0,i} \\cdot x)$, dove $w_{0,i}$ è l'$i$-esimo parametro tra L0 e L1, cioè il peso della $i$-esima connessione tra L0 e L1 e $\\sigma$ è la funzione sigmoide,\n",
    "* L2 calcola una funzione $f_1 = \\sum_i w_{1,i} \\cdot l_i$, dove $w_{1,i}$ è l'$i$-esimo parametro tra L1 e L2, cioè il peso della $i$-esima connessione tra L1 e L2.\n",
    "\n",
    "Dunque complessivamente la rete calcola la funzione $F(x) = f_1(f_0(x)) = \\sum_i w_{1,i} \\cdot \\sigma(w_{0,i} \\cdot x)$.  \n",
    "Una volta che $F$ sia stata calcolata su un training set di $n$ argomenti $x_j$, ogni elemento del campione di valori $F(x_j)$ così ottenuti può essere confrontato con il rispettivo risultato atteso $y_j$ e il risultato sintetizzato in termini di errore quadratico medio (_mean square error_, MSE), $\\sum_j (F(x_j) - y_j)^2 / n$, che è la funzione $G$ che si vuole minimizzare rispetto ai parametri $w_{0,i}$ e $w_{1,i}$, dunque in quanto funzione $G(w_0, w_1)$.  \n",
    "Si può con ciò applicare la _chain rule_, secondo cui la derivata di $g(f(x))$ è $g'(f(x)) \\cdot f'(x)$, che in questo caso\n",
    "\n"
   ]
  },
  {
   "attachments": {},
   "cell_type": "markdown",
   "metadata": {},
   "source": [
    "in cui in questo caso $g'(f(x)) = 2 \\cdot \\sum_j (F(x_j) - y_j) / n$ e per il neurone $i$-esimo $f'(x) = \\sigma'(w_{0,i} \\cdot x)$."
   ]
  },
  {
   "cell_type": "code",
   "execution_count": 1,
   "metadata": {},
   "outputs": [],
   "source": [
    "import numpy as np\n",
    "import matplotlib.pyplot as plt\n",
    "\n",
    "def sigmoid(x:np.ndarray) -> np.ndarray: return 1 / (np.exp(-x) + 1)    \n",
    "def d_sigmoid(x:np.ndarray) -> np.ndarray: return (np.exp(-x)) / ((np.exp(-x) + 1)**2)\n",
    "\n",
    "layer_size = 100                # numero di neuroni dello strato nascosto\n",
    "\n",
    "w0 = np.random.uniform(-1, 1, size=[1, layer_size])\n",
    "w1 = np.random.uniform(-1, 1, size=[layer_size, 1])"
   ]
  },
  {
   "attachments": {},
   "cell_type": "markdown",
   "metadata": {},
   "source": [
    "Definiamo la funzione da approssimare, in questo caso $sin(x)$ con $-\\pi \\le x \\le \\pi$."
   ]
  },
  {
   "cell_type": "code",
   "execution_count": 2,
   "metadata": {},
   "outputs": [],
   "source": [
    "the_fun = lambda x: np.sin(x)   # la funzione da approssimare\n",
    "the_min = -np.pi                # l'argomento minimo\n",
    "the_max = np.pi                 # l'argomento massimo"
   ]
  },
  {
   "attachments": {},
   "cell_type": "markdown",
   "metadata": {},
   "source": [
    "Definiamo la funzione di addestramento:\n",
    "* nel _forward pass_ gli elementi del training set sono applicati, in parallelo per ogni \"epoca\", alla rete, ottenendo un risultato,\n",
    "* che viene confrontato con il valore corretto tramite il _mean square error_, di cui si calcola la derivata,\n",
    "* che nel _backward pass_ viene propagata all'indietro nella rete per correggere i valori dei parametri. "
   ]
  },
  {
   "cell_type": "code",
   "execution_count": 3,
   "metadata": {},
   "outputs": [],
   "source": [
    "def train(w0:np.ndarray, w1:np.ndarray, epochs:int, trainingset_size:int, learning_rate:float, log:bool=False) -> tuple[np.ndarray,np.ndarray]:\n",
    "    if log: print('Epoca\\tMSE')\n",
    "\n",
    "    for j in range(epochs):  \n",
    "        # il training set\n",
    "        x_train = np.random.uniform(the_min, the_max, size=[trainingset_size, 1])\n",
    "        y_train = the_fun(x_train)\n",
    "\n",
    "        # L0->L1: l1.shape: (dataset_size, layer_size): una riga per ogni datapoint e una colonna per ogni neurone di L1\n",
    "        l1 = x_train.dot(w0)\n",
    "        l1_sigmoid = sigmoid(l1)\n",
    "\n",
    "        # L1->L2: l2.shape: (dataset_size, 1): una riga per ogni datapoint\n",
    "        l2 = l1_sigmoid.dot(w1)\n",
    "\n",
    "        if log and j % 500 == 0:\n",
    "            mse = np.square(l2 - y_train).sum() / trainingset_size\n",
    "            print(f'{j}\\t{mse:.4f}')\n",
    "\n",
    "        # derivata dell'MSE: d_mse.shape -> (dataset_size, 1)\n",
    "        d_mse = 2 * (l2 - y_train) / trainingset_size\n",
    "\n",
    "        # update_l2.shape: (layer_size, 1): la stessa di w1, i cui elementi sono da aggiornare\n",
    "        update_l2 = l1_sigmoid.T @ d_mse\n",
    "\n",
    "        # error.shape: (dataset_size, layer_size)\n",
    "        error = (w1.dot(d_mse.T)).T * d_sigmoid(l1)\n",
    "\n",
    "        # update_l1.shape: (1, layer_size): la stessa di w0, i cui elementi sono da aggiornare\n",
    "        update_l1 = x_train.T @ error\n",
    "\n",
    "        w0 -= learning_rate * update_l1\n",
    "        w1 -= learning_rate * update_l2\n",
    "    return w0, w1"
   ]
  },
  {
   "attachments": {},
   "cell_type": "markdown",
   "metadata": {},
   "source": [
    "Dopo aver inizializzato gli iperparametri relativi all'addestramento, la funzione di addestramento può essere ora eseguita:"
   ]
  },
  {
   "cell_type": "code",
   "execution_count": 4,
   "metadata": {},
   "outputs": [
    {
     "name": "stdout",
     "output_type": "stream",
     "text": [
      "Epoca\tMSE\n",
      "0\t1.9573\n",
      "500\t0.1157\n",
      "1000\t0.0978\n",
      "1500\t0.0894\n",
      "2000\t0.0735\n",
      "2500\t0.0662\n",
      "3000\t0.0569\n",
      "3500\t0.0469\n",
      "4000\t0.0477\n",
      "4500\t0.0394\n"
     ]
    }
   ],
   "source": [
    "epochs = 5000                   # numero di ripetizioni (\"epoca\") del processo di addestramento\n",
    "trainingset_size = 1000         # numero di datapoint per ogni addestramento\n",
    "learning_rate = 0.001\n",
    "\n",
    "w0, w1 = train(w0, w1, epochs, trainingset_size, learning_rate, log=True)"
   ]
  },
  {
   "attachments": {},
   "cell_type": "markdown",
   "metadata": {},
   "source": [
    "Ora che la rete è stata addestrata, la possiamo mettere alla prova:"
   ]
  },
  {
   "cell_type": "code",
   "execution_count": 5,
   "metadata": {},
   "outputs": [
    {
     "data": {
      "image/png": "[encoded data removed]",
      "text/plain": [
       "<Figure size 640x480 with 1 Axes>"
      ]
     },
     "metadata": {},
     "output_type": "display_data"
    }
   ],
   "source": [
    "# il test set\n",
    "testset_size = 100\n",
    "x_test = np.random.uniform(the_min, the_max, size=[testset_size, 1])\n",
    "\n",
    "# il forward pass\n",
    "l1 = x_test.dot(w0)\n",
    "l1_sigmoid = sigmoid(l1)\n",
    "y_test = l1_sigmoid.dot(w1)\n",
    "\n",
    "# la funzione da approssimare\n",
    "x = np.linspace(the_min, the_max, 100)\n",
    "y = the_fun(x)\n",
    "\n",
    "plt.plot(x, y)\n",
    "plt.scatter(x_test, y_test)\n",
    "plt.show()"
   ]
  }
 ],
 "metadata": {
  "kernelspec": {
   "display_name": "base",
   "language": "python",
   "name": "python3"
  },
  "language_info": {
   "codemirror_mode": {
    "name": "ipython",
    "version": 3
   },
   "file_extension": ".py",
   "mimetype": "text/x-python",
   "name": "python",
   "nbconvert_exporter": "python",
   "pygments_lexer": "ipython3",
   "version": "3.11.3"
  },
  "orig_nbformat": 4
 },
 "nbformat": 4,
 "nbformat_minor": 2
}
