{
 "cells": [
  {
   "attachments": {},
   "cell_type": "markdown",
   "metadata": {},
   "source": [
    "## langchain: un esempio di Q&A sul contenuto di un documento\n",
    "Luca Mari, maggio 2023  \n",
    "[virtenv `langchain`: langchain, openai, chroma, chromadb, tiktoken]\n",
    "\n",
    "Il problema che si vuole risolvere qui è di usare un LLM per fare domande in linguaggio naturale a proposito del contenuto di uno o più documenti che non sono stati letti durante il pre-training, e questo senza fare _fine tuning_ con il contenuto dei documenti.\n",
    "\n",
    "Se il documento non è sufficientemente breve, rispetto alla dimensione (in token) della _context window_, e quindi non può essere interamente contenuto in un prompt insieme con la domanda, è necessario preliminarmente dividerlo in parti, identificare quali parti sono rilevanti per rispondere alla domanda, e passare nel prompt solo queste. Per realizzare questo processo preliminare occorre essere in grado di effettuare una ricerca semantica sul documento, e per questo occorre:\n",
    "* dividere il documento in parti (_chunks_);\n",
    "* fare l'_embedding_ di ogni parte;\n",
    "* scrivere gli _embeddings_ in un database vettoriale.\n",
    "Quando questo è stato fatto, data la domanda:\n",
    "* si fa una ricerca di similarità nel database,\n",
    "* si estraggono le parti più rilevanti, e\n",
    "* le si introduce nel prompt insieme con la domanda stessa,\n",
    "inviando infine il prompt all'oggetto `load_qa_chain`."
   ]
  },
  {
   "cell_type": "code",
   "execution_count": 2,
   "metadata": {},
   "outputs": [
    {
     "name": "stderr",
     "output_type": "stream",
     "text": [
      "Using embedded DuckDB without persistence: data will be transient\n"
     ]
    },
    {
     "name": "stdout",
     "output_type": "stream",
     "text": [
      "The fourth element of the 8-tuple is Ω, which is the set of input constants. Its purpose is to provide the values of the constants that are used in the model.\n"
     ]
    }
   ],
   "source": [
    "from langchain.document_loaders import TextLoader\n",
    "from langchain.text_splitter import CharacterTextSplitter\n",
    "from langchain.embeddings.openai import OpenAIEmbeddings\n",
    "from langchain.vectorstores import Chroma\n",
    "from langchain.chains.question_answering import load_qa_chain\n",
    "from langchain.llms import OpenAI\n",
    "\n",
    "# leggi il documento, non abbastanza breve\n",
    "loader = TextLoader('./8tuple_l.txt', encoding='utf8')\n",
    "data = loader.load()\n",
    "\n",
    "# dividi il documento in parti\n",
    "text_splitter = CharacterTextSplitter(\n",
    "    separator='\\n',\n",
    "    chunk_size=2000,\n",
    "    chunk_overlap=100,\n",
    "    length_function=len\n",
    ")\n",
    "chunks = text_splitter.split_text(data[0].page_content)\n",
    "#print(len(chunks))\n",
    "\n",
    "# crea l'embedding\n",
    "embeddings = OpenAIEmbeddings(client='complexQA')\n",
    "vector_db = Chroma.from_texts(chunks, embeddings)\n",
    "\n",
    "# crea la domanda\n",
    "query = \"What is the fourth element of the 8-tuple and what is its purpose?\"\n",
    "\n",
    "# cerca le parti corrispondenti alla domanda\n",
    "relevant_chunks = vector_db.similarity_search(query, k=5)\n",
    "#print(len(relevant_chunks))\n",
    "\n",
    "# attiva l'llm\n",
    "llm = OpenAI(temperature=0, client='complexQA')\n",
    "\n",
    "# invia la domanda con il contesto, ottieni e visualizza la risposta\n",
    "chain = load_qa_chain(llm, chain_type='stuff')\n",
    "print(chain.run(input_documents=relevant_chunks, question=query).strip())"
   ]
  },
  {
   "attachments": {},
   "cell_type": "markdown",
   "metadata": {},
   "source": [
    "Come si vede, il risultato è di qualità media. Il motivo pare sia la limitata qualità della ricerca semantica, che non restituisce le parti effettivamente rilevanti del documento."
   ]
  }
 ],
 "metadata": {
  "kernelspec": {
   "display_name": "langchain",
   "language": "python",
   "name": "python3"
  },
  "language_info": {
   "codemirror_mode": {
    "name": "ipython",
    "version": 3
   },
   "file_extension": ".py",
   "mimetype": "text/x-python",
   "name": "python",
   "nbconvert_exporter": "python",
   "pygments_lexer": "ipython3",
   "version": "3.11.3"
  },
  "orig_nbformat": 4
 },
 "nbformat": 4,
 "nbformat_minor": 2
}
