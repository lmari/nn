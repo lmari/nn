{
 "cells": [
  {
   "attachments": {},
   "cell_type": "markdown",
   "metadata": {},
   "source": [
    "## langchain: semplice Q&A con un modello da `GPT4all`\n",
    "Luca Mari, maggio 2023  \n",
    "[virtenv `langchain`: langchain, pygpt4all]\n",
    "\n",
    "Il più semplice esempio di Q&A con un modello locale, gestito con `GPT4all`."
   ]
  },
  {
   "cell_type": "code",
   "execution_count": 1,
   "metadata": {},
   "outputs": [
    {
     "name": "stderr",
     "output_type": "stream",
     "text": [
      "llama_model_load: loading model from '/home/lucamari/.local/share/nomic.ai/GPT4All/ggml-gpt4all-l13b-snoozy.bin' - please wait ...\n",
      "llama_model_load: n_vocab = 32000\n",
      "llama_model_load: n_ctx   = 512\n",
      "llama_model_load: n_embd  = 5120\n",
      "llama_model_load: n_mult  = 256\n",
      "llama_model_load: n_head  = 40\n",
      "llama_model_load: n_layer = 40\n",
      "llama_model_load: n_rot   = 128\n",
      "llama_model_load: f16     = 2\n",
      "llama_model_load: n_ff    = 13824\n",
      "llama_model_load: n_parts = 2\n",
      "llama_model_load: type    = 2\n",
      "llama_model_load: ggml map size = 7759.83 MB\n",
      "llama_model_load: ggml ctx size = 101.25 KB\n",
      "llama_model_load: mem required  = 9807.93 MB (+ 3216.00 MB per state)\n",
      "llama_model_load: loading tensors from '/home/lucamari/.local/share/nomic.ai/GPT4All/ggml-gpt4all-l13b-snoozy.bin'\n",
      "llama_model_load: model size =  7759.39 MB / num tensors = 363\n",
      "llama_init_from_file: kv self size  =  800.00 MB\n"
     ]
    },
    {
     "name": "stdout",
     "output_type": "stream",
     "text": [
      "Sure, I can help you with that.\n",
      "To find the product of two numbers (for example, to multiply them together), follow these steps:\n",
      "1. Write down both numbers in their respective columns or boxes above each other. For this problem, 965 will be written as a single digit number and placed below the digits representing its power (which is currently set at \"0\"). So it would look like this on your worksheet:\n",
      "```bash\n",
      "|   |   Number to Multiply         || Power of Each Digit      | Product    | 965*590  \n",
      "||------------------------||-----------------------------||-------------------||--------------\n",
      "|   |        X            ||             -1                ||                    96,500.00          (calculated using the formula)              x  ||           \n",
      "```\n"
     ]
    }
   ],
   "source": [
    "from langchain import LLMChain\n",
    "from langchain.llms import GPT4All\n",
    "\n",
    "local_path = '/home/lucamari/.local/share/nomic.ai/GPT4All/ggml-gpt4all-l13b-snoozy.bin' \n",
    "\n",
    "# attiva l'llm\n",
    "llm = GPT4All(model=local_path, verbose=False) # type: ignore\n",
    "\n",
    "# crea la domanda\n",
    "query = \"Calcola con attenzione il risultato di 965*590: assicurati di indicare il risultato corretto!\"\n",
    "\n",
    "# invia la domanda e ottieni e visualizza la risposta\n",
    "print(llm(query))"
   ]
  }
 ],
 "metadata": {
  "kernelspec": {
   "display_name": "langchain",
   "language": "python",
   "name": "python3"
  },
  "language_info": {
   "codemirror_mode": {
    "name": "ipython",
    "version": 3
   },
   "file_extension": ".py",
   "mimetype": "text/x-python",
   "name": "python",
   "nbconvert_exporter": "python",
   "pygments_lexer": "ipython3",
   "version": "3.11.3"
  },
  "orig_nbformat": 4
 },
 "nbformat": 4,
 "nbformat_minor": 2
}
