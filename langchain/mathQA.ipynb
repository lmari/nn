{
 "cells": [
  {
   "attachments": {},
   "cell_type": "markdown",
   "metadata": {},
   "source": [
    "## langchain: un esempio di matematica\n",
    "Luca Mari, maggio 2023  \n",
    "[virtenv `langchain`: langchain, openai]\n",
    "\n",
    "Il problema che si vuole risolvere qui è di usare un LLM per fare domande in linguaggio naturale a proposito di argomenti di matematica.\n",
    "\n",
    "[virtenv `langchain`: langchain, openai]"
   ]
  },
  {
   "cell_type": "code",
   "execution_count": 5,
   "metadata": {},
   "outputs": [
    {
     "name": "stdout",
     "output_type": "stream",
     "text": [
      "Senza embedding: 13^0.3432 = 1.845\n",
      "Con embedding: Answer: 2.4116004626599237\n"
     ]
    }
   ],
   "source": [
    "from langchain.llms import OpenAI\n",
    "from langchain import LLMMathChain\n",
    "\n",
    "llm = OpenAI(temperature=0, client=None)\n",
    "\n",
    "query = \"Puoi dirmi quanto fa 13 elevato alla .3432 ?\"\n",
    "print('Senza embedding:', llm(query).strip())\n",
    "\n",
    "llm_math = LLMMathChain.from_llm(llm, verbose=False)\n",
    "print('Con embedding:', llm_math(query)['answer'])"
   ]
  }
 ],
 "metadata": {
  "kernelspec": {
   "display_name": "langchain",
   "language": "python",
   "name": "python3"
  },
  "language_info": {
   "codemirror_mode": {
    "name": "ipython",
    "version": 3
   },
   "file_extension": ".py",
   "mimetype": "text/x-python",
   "name": "python",
   "nbconvert_exporter": "python",
   "pygments_lexer": "ipython3",
   "version": "3.11.3"
  },
  "orig_nbformat": 4
 },
 "nbformat": 4,
 "nbformat_minor": 2
}
