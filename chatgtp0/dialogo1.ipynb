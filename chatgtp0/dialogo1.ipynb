{
 "cells": [
  {
   "attachments": {},
   "cell_type": "markdown",
   "metadata": {},
   "source": [
    "## Un semplice esempio di uso dell'API di ChatGPT in modalità _streaming_/sequenziale \n",
    "Luca Mari, aprile 2023  \n",
    "[virtenv `langchain`: openai]\n",
    "\n",
    "(ispirato da https://til.simonwillison.net/gpt3/python-chatgpt-streaming-api)\n",
    "\n",
    "Per una documentazione più analitica, vedi `dialogo0`."
   ]
  },
  {
   "cell_type": "code",
   "execution_count": 1,
   "metadata": {},
   "outputs": [],
   "source": [
    "import os\n",
    "import openai\n",
    "\n",
    "openai.organization = os.getenv('OPENAI_ORGANIZATION')\n",
    "openai.api_key = os.getenv('OPENAI_API_KEY')"
   ]
  },
  {
   "cell_type": "code",
   "execution_count": 2,
   "metadata": {},
   "outputs": [
    {
     "name": "stdout",
     "output_type": "stream",
     "text": [
      "Umano: (con sorpresa) Oh mio Dio! Non posso credere ai miei occhi! Sei un... un extraterrestre?\n",
      "\n",
      "Extraterrestre: (sorridendo) Sì, lo sono. Non preoccuparti, vengo in pace. Sono qui per conoscere la tua specie e imparare di più sulla vostra cultura e tecnologia.\n",
      "\n",
      "Umano: (ancora sorpreso) Ma come fai a parlare la mia lingua?\n",
      "\n",
      "Extraterrestre: Abbiamo studiato il vostro pianeta e le vostre lingue da molto tempo. Ho imparato a parlare la tua lingua attraverso un dispositivo di traduzione che ho incorporato nel mio cervello.\n",
      "\n",
      "Umano: Incredibile! Quindi, da dove vieni esattamente?\n",
      "\n",
      "Extraterrestre: Vengo da un pianeta chiamato Zogar, situato nella galassia di Andromeda. È molto diverso dalla Terra, con un ambiente e una fauna unici.\n",
      "\n",
      "Umano: Deve essere affascinante! E perché hai deciso di venire sulla Terra?\n",
      "\n",
      "Extraterrestre: Siamo una specie curiosa e pacifica, interessata all'esplorazione e all'apprendimento. Abbiamo scoperto la Terra e la vita umana attraverso i segnali radio e televisivi che avete inviato nello spazio, e abbiamo deciso di venire a farvi visita per condividere conoscenze e esperienze.\n",
      "\n",
      "Umano: Spero che la nostra specie possa imparare molto da voi. Ma temo che alcuni di noi potrebbero avere paura o reagire in modo ostile alla vostra presenza.\n",
      "\n",
      "Extraterrestre: Capisco le vostre preoccupazioni, ma non abbiamo intenzione di nuocere a nessuno. Siamo qui per stabilire una relazione amichevole e cooperativa con gli esseri umani. Speriamo che, con il tempo, possiamo superare le barriere della paura e dell'ignoranza e lavorare insieme per un futuro migliore.\n",
      "\n",
      "Umano: Sono d'accordo. Dobbiamo imparare a collaborare e a condividere le nostre conoscenze per il bene di entrambe le nostre specie. Benvenuto sulla Terra, amico mio.\n",
      "\n",
      "Extraterrestre: Grazie per il tuo caloroso benvenuto. Sono ansioso di imparare di più sulla vostra cultura e di condividere le meraviglie del nostro mondo con voi."
     ]
    }
   ],
   "source": [
    "prompt = \"\"\"Inventa un dialogo tra un essere umano e un extraterrestre, che sa parlare la lingua dell'umano.\n",
    "            E' la prima volta che un umano incontra un extraterrestre.\"\"\"\n",
    "\n",
    "messages = [{'role':'user', 'content':prompt}]\n",
    "\n",
    "for chunk in openai.ChatCompletion.create(\n",
    "    model='gpt-4',\n",
    "    messages=messages,\n",
    "    max_tokens=1024,\n",
    "    n=1,\n",
    "    stop=None,\n",
    "    temperature=0.5,\n",
    "    stream=True\n",
    "):\n",
    "    content = chunk[\"choices\"][0].get(\"delta\", {}).get(\"content\") # type: ignore\n",
    "    if content is not None:\n",
    "        print(content, end='')"
   ]
  }
 ],
 "metadata": {
  "kernelspec": {
   "display_name": "chatgpt",
   "language": "python",
   "name": "python3"
  },
  "language_info": {
   "codemirror_mode": {
    "name": "ipython",
    "version": 3
   },
   "file_extension": ".py",
   "mimetype": "text/x-python",
   "name": "python",
   "nbconvert_exporter": "python",
   "pygments_lexer": "ipython3",
   "version": "3.11.3"
  },
  "orig_nbformat": 4
 },
 "nbformat": 4,
 "nbformat_minor": 2
}
