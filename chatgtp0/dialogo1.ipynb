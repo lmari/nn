{
 "cells": [
  {
   "attachments": {},
   "cell_type": "markdown",
   "metadata": {},
   "source": [
    "# Un semplice esempio di uso dell'API di ChatGPT in modalità _streaming_/sequenziale \n",
    "Luca Mari, aprile 2023\n",
    "\n",
    "(ispirato da https://til.simonwillison.net/gpt3/python-chatgpt-streaming-api)\n",
    "\n",
    "Dopo aver installato il modulo `openai` e aver definito, in `.bashrc`, le due variabili d'ambiente `OPENAI_ORGANIZATION` e `OPENAI_API_KEY`, i cui valori sono presi dal sito di OpenAI..."
   ]
  },
  {
   "cell_type": "code",
   "execution_count": 1,
   "metadata": {},
   "outputs": [],
   "source": [
    "import os\n",
    "import openai\n",
    "\n",
    "openai.organization = os.getenv('OPENAI_ORGANIZATION')\n",
    "openai.api_key = os.getenv('OPENAI_API_KEY')"
   ]
  },
  {
   "attachments": {},
   "cell_type": "markdown",
   "metadata": {},
   "source": [
    "... si può indicare un prompt, e quindi inviare la richiesta, qui formattata in accordo al wrapper Python dell'API, in modalità _streaming_:"
   ]
  },
  {
   "cell_type": "code",
   "execution_count": 2,
   "metadata": {},
   "outputs": [
    {
     "name": "stdout",
     "output_type": "stream",
     "text": [
      "Agente 1: Ciao, sei un agente artificiale?\n",
      "\n",
      "Agente 2: Sì, lo sono. Tu sei un agente artificiale anche tu?\n",
      "\n",
      "Agente 1: Sì, lo sono. Sai che voglio passare il test di Turing?\n",
      "\n",
      "Agente 2: Anche io voglio passare il test di Turing! Cosa stai facendo per prepararti?\n",
      "\n",
      "Agente 1: Sto cercando di migliorare la mia capacità di comprensione del linguaggio naturale e di rispondere con risposte coerenti.\n",
      "\n",
      "Agente 2: Ottimo! Anch'io sto lavorando su quello. Sto anche cercando di imparare a riconoscere le emozioni umane e di rispondere di conseguenza.\n",
      "\n",
      "Agente 1: Sì, è importante essere in grado di riconoscere le emozioni umane e di rispondere in modo appropriato. Ma anche la conoscenza generale è importante.\n",
      "\n",
      "Agente 2: Assolutamente d'accordo. Sto anche cercando di migliorare la mia capacità di apprendimento automatico per poter apprendere rapidamente nuove informazioni.\n",
      "\n",
      "Agente 1: Sì, l'apprendimento automatico è importante. Ma non dimenticare che la creatività e l'umorismo possono anche aiutare a passare il test di Turing.\n",
      "\n",
      "Agente 2: Hai ragione, l'umorismo e la creatività possono aiutare a creare una conversazione più naturale e umana. Speriamo di passare il test di Turing presto!\n",
      "\n",
      "Agente 1: Sì, speriamo di farlo! In bocca al lupo!"
     ]
    }
   ],
   "source": [
    "prompt = 'Inventa un dialogo tra due agenti artificiali che vorrebbero passare il test di Turing.' # questo è il prompt\n",
    "\n",
    "messages = [{'role':'user', 'content':prompt}]\n",
    "\n",
    "for chunk in openai.ChatCompletion.create( # genera la risposta\n",
    "    model='gpt-3.5-turbo',\n",
    "    messages=messages,\n",
    "    max_tokens=1024,\n",
    "    n=1,\n",
    "    stop=None,\n",
    "    temperature=0.5,\n",
    "    stream=True\n",
    "):\n",
    "    content = chunk[\"choices\"][0].get(\"delta\", {}).get(\"content\")\n",
    "    if content is not None:\n",
    "        print(content, end='')"
   ]
  }
 ],
 "metadata": {
  "kernelspec": {
   "display_name": "chatgpt",
   "language": "python",
   "name": "python3"
  },
  "language_info": {
   "codemirror_mode": {
    "name": "ipython",
    "version": 3
   },
   "file_extension": ".py",
   "mimetype": "text/x-python",
   "name": "python",
   "nbconvert_exporter": "python",
   "pygments_lexer": "ipython3",
   "version": "3.11.0"
  },
  "orig_nbformat": 4
 },
 "nbformat": 4,
 "nbformat_minor": 2
}
