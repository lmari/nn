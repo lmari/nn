{
 "cells": [
  {
   "attachments": {},
   "cell_type": "markdown",
   "metadata": {},
   "source": [
    "# Il più semplice esempio di uso dell'API di ChatGPT\n",
    "Luca Mari, aprile 2023\n",
    "\n",
    "(ispirato da https://platform.openai.com/docs/api-reference/introduction)\n",
    "\n",
    "Dopo aver installato il modulo `openai` e aver definito, in `.bashrc`, le due variabili d'ambiente `OPENAI_ORGANIZATION` e `OPENAI_API_KEY`, i cui valori sono presi dal sito di OpenAI..."
   ]
  },
  {
   "cell_type": "code",
   "execution_count": 27,
   "metadata": {},
   "outputs": [],
   "source": [
    "import os\n",
    "import openai\n",
    "\n",
    "openai.organization = os.getenv('OPENAI_ORGANIZATION')\n",
    "openai.api_key = os.getenv('OPENAI_API_KEY')"
   ]
  },
  {
   "attachments": {},
   "cell_type": "markdown",
   "metadata": {},
   "source": [
    "... si può indicare un prompt, e quindi inviare la richiesta, qui formattata in accordo al wrapper Python dell'API.  \n",
    "Il risultato è un dizionario Python:"
   ]
  },
  {
   "cell_type": "code",
   "execution_count": 28,
   "metadata": {},
   "outputs": [
    {
     "name": "stdout",
     "output_type": "stream",
     "text": [
      "{\n",
      "  \"choices\": [\n",
      "    {\n",
      "      \"finish_reason\": \"stop\",\n",
      "      \"index\": 0,\n",
      "      \"message\": {\n",
      "        \"content\": \"According to the International Vocabulary of Metrology, calibration is defined as \\\"set of operations that establish, under specified conditions, the relationship between values indicated by a measuring instrument or measuring system, or values represented by a material measure or a reference material, and the corresponding known values of a measurand.\\\"\",\n",
      "        \"role\": \"assistant\"\n",
      "      }\n",
      "    }\n",
      "  ],\n",
      "  \"created\": 1681287474,\n",
      "  \"id\": \"chatcmpl-74PxqtNMOrnOz03mNk3tUcCDcUsNw\",\n",
      "  \"model\": \"gpt-3.5-turbo-0301\",\n",
      "  \"object\": \"chat.completion\",\n",
      "  \"usage\": {\n",
      "    \"completion_tokens\": 60,\n",
      "    \"prompt_tokens\": 25,\n",
      "    \"total_tokens\": 85\n",
      "  }\n",
      "}\n"
     ]
    }
   ],
   "source": [
    "prompt = \"What is the definition of 'calibration' in the International Vocabulary of Metrology?\" # questo è il prompt\n",
    "\n",
    "messages = [{'role':'user', 'content':prompt}]\n",
    "\n",
    "completion = openai.ChatCompletion.create( # genera la risposta per GPT-3.5\n",
    "    model='gpt-3.5-turbo',\n",
    "    messages=messages,\n",
    "    max_tokens=128,\n",
    "    n=1,\n",
    "    stop=None,\n",
    "    temperature=0.5\n",
    ")\n",
    "'''\n",
    "completion = openai.Completion.create( # genera la risposta, per GPT-3 (per ora il fine tuning non funziona su 3.5)\n",
    "    model='curie:ft-luca-mari-2023-04-06-16-43-38',\n",
    "    prompt=prompt,\n",
    "    max_tokens=128,\n",
    "    stop='\\n',\n",
    "    temperature=0.5\n",
    ")\n",
    "'''\n",
    "print(completion)"
   ]
  },
  {
   "attachments": {},
   "cell_type": "markdown",
   "metadata": {},
   "source": [
    "Dal dizionario prodotto da ChatGPT si ottiene facilmente il testo della risposta (così com'è funziona solo con richiesta a GPT-3.5):"
   ]
  },
  {
   "cell_type": "code",
   "execution_count": 29,
   "metadata": {},
   "outputs": [
    {
     "name": "stdout",
     "output_type": "stream",
     "text": [
      "According to the International Vocabulary of Metrology, calibration is defined as \"set of operations that establish, under specified conditions, the relationship between values indicated by a measuring instrument or measuring system, or values represented by a material measure or a reference material, and the corresponding known values of a measurand.\"\n"
     ]
    }
   ],
   "source": [
    "print(completion[\"choices\"][0][\"message\"][\"content\"]) # type: ignore"
   ]
  }
 ],
 "metadata": {
  "kernelspec": {
   "display_name": "chatgpt",
   "language": "python",
   "name": "python3"
  },
  "language_info": {
   "codemirror_mode": {
    "name": "ipython",
    "version": 3
   },
   "file_extension": ".py",
   "mimetype": "text/x-python",
   "name": "python",
   "nbconvert_exporter": "python",
   "pygments_lexer": "ipython3",
   "version": "3.11.0"
  },
  "orig_nbformat": 4
 },
 "nbformat": 4,
 "nbformat_minor": 2
}
