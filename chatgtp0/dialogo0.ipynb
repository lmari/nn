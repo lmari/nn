{
 "cells": [
  {
   "attachments": {},
   "cell_type": "markdown",
   "metadata": {},
   "source": [
    "## Il più semplice esempio di uso dell'API di ChatGPT\n",
    "Luca Mari, aprile 2023  \n",
    "[virtenv `langchain`: openai]\n",
    "\n",
    "(ispirato da https://platform.openai.com/docs/api-reference/introduction)\n",
    "\n",
    "Dopo aver installato il modulo `openai` e aver definito, in `.bashrc`, le due variabili d'ambiente `OPENAI_ORGANIZATION` e `OPENAI_API_KEY`, i cui valori sono presi dal sito di OpenAI..."
   ]
  },
  {
   "cell_type": "code",
   "execution_count": 1,
   "metadata": {},
   "outputs": [],
   "source": [
    "import os\n",
    "import openai\n",
    "\n",
    "openai.organization = os.getenv('OPENAI_ORGANIZATION')\n",
    "openai.api_key = os.getenv('OPENAI_API_KEY')"
   ]
  },
  {
   "attachments": {},
   "cell_type": "markdown",
   "metadata": {},
   "source": [
    "... si può indicare un prompt, e quindi inviare la richiesta, qui formattata in accordo al wrapper Python dell'API.  \n",
    "Il risultato è un dizionario Python:"
   ]
  },
  {
   "cell_type": "code",
   "execution_count": 2,
   "metadata": {},
   "outputs": [
    {
     "name": "stdout",
     "output_type": "stream",
     "text": [
      "{\n",
      "  \"choices\": [\n",
      "    {\n",
      "      \"finish_reason\": \"stop\",\n",
      "      \"index\": 0,\n",
      "      \"message\": {\n",
      "        \"content\": \"The International Vocabulary of Metrology (VIM) defines calibration as the \\\"operation that, under specified conditions, in a first step, establishes a relation between the quantity values with measurement uncertainties provided by measurement standards and corresponding indications with associated measurement uncertainties and, in a second step, uses this information to establish a relation for obtaining a measurement result from an indication.\\\" In simpler terms, calibration is the process of comparing a measuring instrument's performance with a known reference standard to ensure accurate measurement results.\",\n",
      "        \"role\": \"assistant\"\n",
      "      }\n",
      "    }\n",
      "  ],\n",
      "  \"created\": 1683985047,\n",
      "  \"id\": \"chatcmpl-7Fjj5rwaTaARMSuVhpw5QwvuvI3Bv\",\n",
      "  \"model\": \"gpt-4-0314\",\n",
      "  \"object\": \"chat.completion\",\n",
      "  \"usage\": {\n",
      "    \"completion_tokens\": 97,\n",
      "    \"prompt_tokens\": 24,\n",
      "    \"total_tokens\": 121\n",
      "  }\n",
      "}\n"
     ]
    }
   ],
   "source": [
    "prompt = \"What is the definition of 'calibration' in the International Vocabulary of Metrology?\"\n",
    "\n",
    "messages = [{'role':'user', 'content':prompt}]\n",
    "\n",
    "completion = openai.ChatCompletion.create(\n",
    "    model='gpt-4',      # 'curie:ft-luca-mari-2023-04-06-16-43-38'\n",
    "    messages=messages,\n",
    "    max_tokens=128,\n",
    "    n=1,\n",
    "    stop=None,\n",
    "    temperature=0.5\n",
    ")\n",
    "\n",
    "print(completion)"
   ]
  },
  {
   "attachments": {},
   "cell_type": "markdown",
   "metadata": {},
   "source": [
    "Dal dizionario prodotto da ChatGPT si ottiene facilmente il testo della risposta (così com'è funziona solo con richiesta a GPT-3.5):"
   ]
  },
  {
   "cell_type": "code",
   "execution_count": 3,
   "metadata": {},
   "outputs": [
    {
     "name": "stdout",
     "output_type": "stream",
     "text": [
      "The International Vocabulary of Metrology (VIM) defines calibration as the \"operation that, under specified conditions, in a first step, establishes a relation between the quantity values with measurement uncertainties provided by measurement standards and corresponding indications with associated measurement uncertainties and, in a second step, uses this information to establish a relation for obtaining a measurement result from an indication.\" In simpler terms, calibration is the process of comparing a measuring instrument's performance with a known reference standard to ensure accurate measurement results.\n"
     ]
    }
   ],
   "source": [
    "print(completion[\"choices\"][0][\"message\"][\"content\"]) # type: ignore"
   ]
  }
 ],
 "metadata": {
  "kernelspec": {
   "display_name": "chatgpt",
   "language": "python",
   "name": "python3"
  },
  "language_info": {
   "codemirror_mode": {
    "name": "ipython",
    "version": 3
   },
   "file_extension": ".py",
   "mimetype": "text/x-python",
   "name": "python",
   "nbconvert_exporter": "python",
   "pygments_lexer": "ipython3",
   "version": "3.11.3"
  },
  "orig_nbformat": 4
 },
 "nbformat": 4,
 "nbformat_minor": 2
}
