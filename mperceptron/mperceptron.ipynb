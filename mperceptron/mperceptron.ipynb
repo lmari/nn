{
 "cells": [
  {
   "attachments": {},
   "cell_type": "markdown",
   "metadata": {},
   "source": [
    "# Una semplice implementazione di un classificatore con un layer nascosto (\"_multilayer perceptron_\")\n",
    "Luca Mari, marzo 2023"
   ]
  },
  {
   "cell_type": "code",
   "execution_count": 58,
   "metadata": {},
   "outputs": [],
   "source": [
    "import numpy as np\n",
    "import matplotlib.pyplot as plt\n",
    "import requests, gzip, os\n",
    "\n",
    "path='./data'\n",
    "web_path = 'http://yann.lecun.com/exdb/mnist'\n",
    "\n",
    "class MPerceptron:\n",
    "    def __init__(self, load_pretrained:bool=False, predictable:bool=False, log:bool=True):\n",
    "        if load_pretrained:\n",
    "            self.load(log)\n",
    "        else:\n",
    "            self.c01 = self._init_connections(28 * 28, 128, predictable)\n",
    "            self.c12 = self._init_connections(128, 10, predictable)\n",
    "        self.x_train, self.y_train = 0, 0\n",
    "        self.x_test, self.y_test = 0, 0\n",
    "\n",
    "    def train(self, epochs=1000, size:int=128, lr:float=0.001, save:bool=False, predicatable:bool=False, log:bool=True):\n",
    "        if type(self.x_train) == int: self.get_training_set(log)\n",
    "        if log: print(f'\\n*** Training in {epochs} fasi di {size} immagini ciascuna ***\\nFase\\tAccuratezza')\n",
    "        data_val = self.x_train.reshape((-1, 28 * 28)) # type: ignore\n",
    "        for i in range(epochs):\n",
    "            x, y = self._sample(self.x_train, self.y_train, size, predicatable)\n",
    "            _, update_l1, update_l2 = self._forward_backward_pass(x, y)\n",
    "            self.c01 -= lr * update_l1\n",
    "            self.c12 -= lr * update_l2\n",
    "            if log and i % 500 == 0:\n",
    "                classified = self.classify(data_val)\n",
    "                print(f'{i}\\t{self.eval_accuracy(classified):.3f}')\n",
    "        if save: self.save(force=True, log=log)\n",
    "\n",
    "    def test(self, size:int=10, predictable:bool=False, log:bool=True):\n",
    "        if type(self.x_test) == int: self.get_test_set(log)\n",
    "        if log: print(f'\\n*** Test di {size} immagini ***\\nIndice\\tClass\\tCorr')\n",
    "        x, y = self._sample(self.x_test, self.y_test, size=size, predictable=predictable)\n",
    "        classified = self.classify(x)\n",
    "        accuracy = (classified == y).mean()\n",
    "        wrong_indexes, wrong_classes = [], []\n",
    "        for i in range(size):\n",
    "            if classified[i] != y[i]:\n",
    "                wrong_indexes.append(i)\n",
    "                wrong_classes.append(classified[i])\n",
    "                if log: print(f'{i}\\t{classified[i]}\\t{y[i]}')\n",
    "        if log: print(f'\\nAccuratezza: {accuracy}%')\n",
    "        return x, y, wrong_indexes, wrong_classes, accuracy\n",
    "\n",
    "    def classify(self, x): # use the trained net to classify \n",
    "        x_l1 = self._sigmoid(x.dot(self.c01))\n",
    "        x_l2 = x_l1.dot(self.c12)\n",
    "        return np.argmax(self._softmax(x_l2), axis=1)\n",
    "\n",
    "    def eval_accuracy(self, data):\n",
    "        return (data == self.y_train).mean()\n",
    "\n",
    "    def get_training_set(self, log:bool=True): # get the dataset\n",
    "        self.x_train = self._fetch(os.path.join(web_path, 'train-images-idx3-ubyte.gz'), 'x_train', log)[0x10:].reshape((-1, 28, 28))\n",
    "        self.y_train = self._fetch(os.path.join(web_path, 'train-labels-idx1-ubyte.gz'), 'y_train', log)[8:]\n",
    "\n",
    "    def get_test_set(self, log:bool=True): # get the dataset\n",
    "        self.x_test = self._fetch(os.path.join(web_path, 't10k-images-idx3-ubyte.gz'), 'x_test', log)[0x10:].reshape((-1, 28 * 28))\n",
    "        self.y_test = self._fetch(os.path.join(web_path, 't10k-labels-idx1-ubyte.gz'), 'y_test', log)[8:]\n",
    "\n",
    "    def save(self, force:bool=False, log:bool=True):\n",
    "        fp = os.path.join(path, 'trained')\n",
    "        if not os.path.isfile(fp) or force:\n",
    "            with open(fp, \"wb\") as f:\n",
    "                np.savez_compressed(f, self.c01, self.c12)\n",
    "            if log: print('Modello salvato.')\n",
    "\n",
    "    def load(self, log:bool=True):\n",
    "        fp = os.path.join(path, 'trained')\n",
    "        with open(fp, \"rb\") as f:\n",
    "            npzfile = np.load(f)\n",
    "            self.c01 = npzfile['arr_0']\n",
    "            self.c12 = npzfile['arr_1']\n",
    "        if log: print('Modello caricato.')\n",
    "\n",
    "    def show_wrongly_classified(self, x, y, wrong_indexes, wrong_classes, max_show:int=10):\n",
    "        if len(wrong_indexes) == 0:\n",
    "            print('Nulla da mostrare...')\n",
    "            return\n",
    "        if len(wrong_indexes) > max_show: wrong_indexes = wrong_indexes[:max_show]\n",
    "        for i, j in enumerate(wrong_indexes):\n",
    "            plt.figure(i, facecolor='w')\n",
    "            plt.title(f'{j}: class: {wrong_classes[i]} corr: {y[j]}')\n",
    "            self._show_char(x[j])\n",
    "\n",
    "    \n",
    "    def _show_char(self, array): # display the picture of the character in the specified array\n",
    "        array = array.reshape((28, 28))\n",
    "        #print(np.array2string(array, formatter={'int':lambda x: '*' if x > 0 else ' '}))\n",
    "        plt.rcParams[\"figure.figsize\"] = [1.00, 1.00]\n",
    "        plt.imshow(array, cmap='gray_r')\n",
    "\n",
    "    def _fetch(self, url:str, name:str, log:bool=True): # get data\n",
    "        fp = os.path.join(path, name)\n",
    "        if os.path.isfile(fp):\n",
    "            if log: print('Dati letti localmente')\n",
    "            with open(fp, \"rb\") as f:\n",
    "                data = f.read()\n",
    "        else:\n",
    "            if log: print('Dati letti del web')\n",
    "            with open(fp, \"wb\") as f:\n",
    "                data = requests.get(url).content\n",
    "                f.write(data)\n",
    "        return np.frombuffer(gzip.decompress(data), dtype=np.uint8).copy()\n",
    "\n",
    "    def _init_connections(self, x:int, y:int, predictable=True): # create and randomly init the connections between two layers\n",
    "        if predictable: np.random.seed(0)\n",
    "        else: np.random.seed()\n",
    "        layer = np.random.uniform(-1., 1., size=(x, y)) / np.sqrt(x * y)\n",
    "        return layer.astype(np.float32)\n",
    "\n",
    "    def _sigmoid(self, x): # sigmoid function\n",
    "        return 1 / (np.exp(-x) + 1)    \n",
    "\n",
    "    def _d_sigmoid(self, x): # derivative of sigmoid\n",
    "        return (np.exp(-x)) / ((np.exp(-x) + 1)**2)\n",
    "\n",
    "    def _softmax(self, x): # softmax function\n",
    "        y = np.exp(x - x.max())\n",
    "        return y / np.sum(y, axis=0)\n",
    "\n",
    "    def _d_softmax(self, x): # derivative of softmax\n",
    "        y = np.exp(x - x.max())\n",
    "        return y / np.sum(y, axis=0) * (1 - y / np.sum(y, axis=0))\n",
    "\n",
    "    def _sample(self, x_data, y_data, size:int=10, predictable:bool=False):\n",
    "        if predictable: np.random.seed(0)\n",
    "        else: np.random.seed()\n",
    "        indexes = np.random.randint(0, x_data.shape[0], size=size)\n",
    "        x = x_data[indexes].reshape((-1, 28 * 28))\n",
    "        y = y_data[indexes]\n",
    "        return x, y\n",
    "\n",
    "    def _forward_backward_pass(self, x, y): # forward and backward pass for training\n",
    "        targets = np.zeros((len(y),10), np.float32) # labels as binary vectors (1 at the right value, 0 everywhere else)\n",
    "        targets[range(targets.shape[0]), y] = 1\n",
    "        x_l1 = x.dot(self.c01) # forward pass\n",
    "        x_sigmoid = self._sigmoid(x_l1)\n",
    "        x_l2 = x_sigmoid.dot(self.c12)\n",
    "        out = self._softmax(x_l2)\n",
    "        error = 2 * (out - targets) / out.shape[0] * self._d_softmax(x_l2)\n",
    "        update_l2 = x_sigmoid.T @ error # (rem: x.T is trasposed x; x @ y is matrix multiplication of x and y)\n",
    "        error = (self.c12.dot(error.T)).T * self._d_sigmoid(x_l1)\n",
    "        update_l1 = x.T @ error\n",
    "        return out, update_l1, update_l2"
   ]
  },
  {
   "cell_type": "code",
   "execution_count": 59,
   "metadata": {},
   "outputs": [
    {
     "name": "stdout",
     "output_type": "stream",
     "text": [
      "Modello caricato.\n",
      "Dati letti localmente\n",
      "Dati letti localmente\n",
      "\n",
      "*** Test di 50 immagini ***\n",
      "Indice\tClass\tCorr\n",
      "4\t1\t7\n",
      "11\t6\t4\n",
      "13\t4\t9\n",
      "14\t3\t8\n",
      "15\t3\t5\n",
      "29\t3\t2\n",
      "30\t1\t9\n",
      "34\t1\t5\n",
      "40\t0\t3\n",
      "\n",
      "Accuratezza: 0.82%\n"
     ]
    },
    {
     "data": {
      "image/png": "[encoded data removed]",
      "text/plain": [
       "<Figure size 72x72 with 1 Axes>"
      ]
     },
     "metadata": {},
     "output_type": "display_data"
    },
    {
     "data": {
      "image/png": "[encoded data removed]",
      "text/plain": [
       "<Figure size 72x72 with 1 Axes>"
      ]
     },
     "metadata": {},
     "output_type": "display_data"
    },
    {
     "data": {
      "image/png": "[encoded data removed]",
      "text/plain": [
       "<Figure size 72x72 with 1 Axes>"
      ]
     },
     "metadata": {},
     "output_type": "display_data"
    },
    {
     "data": {
      "image/png": "[encoded data removed]",
      "text/plain": [
       "<Figure size 72x72 with 1 Axes>"
      ]
     },
     "metadata": {},
     "output_type": "display_data"
    },
    {
     "data": {
      "image/png": "[encoded data removed]",
      "text/plain": [
       "<Figure size 72x72 with 1 Axes>"
      ]
     },
     "metadata": {},
     "output_type": "display_data"
    }
   ],
   "source": [
    "mperceptron = MPerceptron(load_pretrained=True)\n",
    "# mperceptron.get_training_set()\n",
    "# mperceptron.train(save=True)\n",
    "# mperceptron.get_test_set()\n",
    "x, y, wi, wc, a = mperceptron.test(size=50)\n",
    "mperceptron.show_wrongly_classified(x, y, wi, wc, max_show=5)\n"
   ]
  }
 ],
 "metadata": {
  "kernelspec": {
   "display_name": "base",
   "language": "python",
   "name": "python3"
  },
  "language_info": {
   "codemirror_mode": {
    "name": "ipython",
    "version": 3
   },
   "file_extension": ".py",
   "mimetype": "text/x-python",
   "name": "python",
   "nbconvert_exporter": "python",
   "pygments_lexer": "ipython3",
   "version": "3.9.15"
  },
  "orig_nbformat": 4
 },
 "nbformat": 4,
 "nbformat_minor": 2
}
