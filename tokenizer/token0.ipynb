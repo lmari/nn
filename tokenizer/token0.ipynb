{
 "cells": [
  {
   "attachments": {},
   "cell_type": "markdown",
   "metadata": {},
   "source": [
    "# Un esempio di tokenizzazione\n",
    "Luca Mari, marzo 2023\n",
    "\n",
    "(ispirato da https://github.com/openai/tiktoken e https://github.com/openai/openai-cookbook/blob/main/examples/How_to_count_tokens_with_tiktoken.ipynb)"
   ]
  },
  {
   "cell_type": "code",
   "execution_count": 6,
   "metadata": {},
   "outputs": [
    {
     "name": "stdout",
     "output_type": "stream",
     "text": [
      "Testo da tokenizzare: questa è una prova di tokenizzazione, in italiano\n",
      "Risultato della codifica: [724, 64, 11676, 5203, 97993, 1891, 4037, 87208, 11, 304, 60904]\n",
      "Testo tokenizzato: quest|a| è| una| prova| di| token|izzazione|,| in| italiano\n",
      "\n",
      "Testo random:  finals chl ewis (option \":\n",
      "\n",
      " haus _Err  adulte  Higgins  rehearsal\n"
     ]
    }
   ],
   "source": [
    "import tiktoken\n",
    "import numpy as np\n",
    "\n",
    "def token_to_string(tool, token):\n",
    "    return tool.decode_single_token_bytes(token).decode()\n",
    "\n",
    "\n",
    "tool = tiktoken.encoding_for_model('gpt-3.5-turbo')\n",
    "\n",
    "#text = 'this is a test of tokenization, in English'\n",
    "text = 'questa è una prova di tokenizzazione, in italiano'\n",
    "\n",
    "encoded = tool.encode(text)\n",
    "# decoded = tool.decode(encoded)\n",
    "\n",
    "print(f'Testo da tokenizzare: {text}')\n",
    "print(f'Risultato della codifica: {encoded}')\n",
    "# print(f'Risultato della decodifica: {decoded}')\n",
    "split_decoded = '|'.join([token_to_string(tool, token) for token in encoded])\n",
    "print(f'Testo tokenizzato: {split_decoded}')\n",
    "\n",
    "random_sentence = ' '.join([token_to_string(tool, token) for token in np.random.randint(low=0, high=tool.max_token_value, size=10)])\n",
    "print(f'\\nTesto random: {random_sentence}')\n",
    "\n"
   ]
  }
 ],
 "metadata": {
  "kernelspec": {
   "display_name": "chatgpt",
   "language": "python",
   "name": "python3"
  },
  "language_info": {
   "codemirror_mode": {
    "name": "ipython",
    "version": 3
   },
   "file_extension": ".py",
   "mimetype": "text/x-python",
   "name": "python",
   "nbconvert_exporter": "python",
   "pygments_lexer": "ipython3",
   "version": "3.11.0"
  },
  "orig_nbformat": 4
 },
 "nbformat": 4,
 "nbformat_minor": 2
}
