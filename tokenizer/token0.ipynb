{
 "cells": [
  {
   "attachments": {},
   "cell_type": "markdown",
   "metadata": {},
   "source": [
    "# Un esempio di tokenizzazione\n",
    "Luca Mari, marzo 2023\n",
    "\n",
    "(ispirato da https://github.com/openai/tiktoken e https://github.com/openai/openai-cookbook/blob/main/examples/How_to_count_tokens_with_tiktoken.ipynb)"
   ]
  },
  {
   "cell_type": "code",
   "execution_count": 15,
   "metadata": {},
   "outputs": [
    {
     "name": "stdout",
     "output_type": "stream",
     "text": [
      "Testo da tokenizzare: porta la porta\n",
      "Risultato della codifica: [403, 64, 1208, 62090]\n",
      "Testo tokenizzato: port|a| la| porta\n"
     ]
    }
   ],
   "source": [
    "import tiktoken\n",
    "import numpy as np\n",
    "\n",
    "def token_to_string(tool:tiktoken.core.Encoding, token:int):\n",
    "    return tool.decode_single_token_bytes(token).decode()\n",
    "\n",
    "def tokens_to_string(tool:tiktoken.core.Encoding, tokens:list[int], join_char:str='', show_token:bool=False):\n",
    "    if show_token: return join_char.join([f'{tool.decode_single_token_bytes(token).decode()}[{token}]' for token in tokens])\n",
    "    return join_char.join([tool.decode_single_token_bytes(token).decode() for token in tokens])\n",
    "\n",
    "\n",
    "\n",
    "tool = tiktoken.encoding_for_model('gpt-3.5-turbo')\n",
    "\n",
    "#text = 'this is a test of tokenization, in English'\n",
    "#text = 'questa è una prova di tokenizzazione, in italiano'\n",
    "text = 'porta la porta'\n",
    "#text = 'riso riso venti venti'\n",
    "\n",
    "encoded = tool.encode(text)\n",
    "# decoded = tool.decode(encoded)\n",
    "\n",
    "print(f'Testo da tokenizzare: {text}')\n",
    "print(f'Risultato della codifica: {encoded}')\n",
    "# print(f'Risultato della decodifica: {decoded}')\n",
    "split_decoded = tokens_to_string(tool, encoded, '|')\n",
    "print(f'Testo tokenizzato: {split_decoded}')\n",
    "\n",
    "# random_sentence = ' '.join([token_to_string(tool, token) for token in np.random.randint(low=0, high=tool.max_token_value, size=10)])\n",
    "# print(f'\\nTesto random: {random_sentence}')\n",
    "\n"
   ]
  },
  {
   "cell_type": "code",
   "execution_count": null,
   "metadata": {},
   "outputs": [],
   "source": []
  }
 ],
 "metadata": {
  "kernelspec": {
   "display_name": "chatgpt",
   "language": "python",
   "name": "python3"
  },
  "language_info": {
   "codemirror_mode": {
    "name": "ipython",
    "version": 3
   },
   "file_extension": ".py",
   "mimetype": "text/x-python",
   "name": "python",
   "nbconvert_exporter": "python",
   "pygments_lexer": "ipython3",
   "version": "3.11.0"
  },
  "orig_nbformat": 4
 },
 "nbformat": 4,
 "nbformat_minor": 2
}
