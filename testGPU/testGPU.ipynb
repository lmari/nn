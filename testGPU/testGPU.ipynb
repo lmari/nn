{
 "cells": [
  {
   "attachments": {},
   "cell_type": "markdown",
   "metadata": {},
   "source": [
    "# Una semplice verifica della possibilità di eseguire funzioni `numpy` in GPU\n",
    "\n",
    "Luca Mari, marzo 2023\n",
    "\n",
    "Questo notebook consente di verificare se funzioni `numpy` possono essere eseguite in GPU, e nel caso riporta i tempi di esecuzione, in CPU e in GPU. "
   ]
  },
  {
   "cell_type": "code",
   "execution_count": 1,
   "metadata": {},
   "outputs": [],
   "source": [
    "from numba import jit\n",
    "import numpy as np\n",
    "from timeit import default_timer as timer\n",
    "\n",
    "n = 10000000   # numero di somme parziali da eseguire"
   ]
  },
  {
   "attachments": {},
   "cell_type": "markdown",
   "metadata": {},
   "source": [
    "La stessa funzione, da eseguire in CPU e in GPU:"
   ]
  },
  {
   "cell_type": "code",
   "execution_count": 4,
   "metadata": {},
   "outputs": [],
   "source": [
    "# in CPU\n",
    "def f_CPU(a):                                \n",
    "    for i in range(n): a[i]+= 1\n",
    "  \n",
    "# in GPU \n",
    "@jit(target_backend='cuda', nopython=True)                         \n",
    "def f_GPU(a):\n",
    "    for i in range(n): a[i]+= 1"
   ]
  },
  {
   "cell_type": "code",
   "execution_count": 5,
   "metadata": {},
   "outputs": [
    {
     "name": "stdout",
     "output_type": "stream",
     "text": [
      "Esecuzione in GPU: 0.054 s\n",
      "Esecuzione in CPU: 2.619 s\n"
     ]
    }
   ],
   "source": [
    "a = np.ones(n, dtype = np.float64)\n",
    "\n",
    "start = timer()\n",
    "f_GPU(a)\n",
    "t_GPU = timer()-start\n",
    "\n",
    "start = timer()\n",
    "f_CPU(a)\n",
    "t_CPU = timer()-start\n",
    "\n",
    "print(f'Esecuzione in GPU: {t_GPU:.3f} s')\n",
    "print(f'Esecuzione in CPU: {t_CPU:.3f} s')"
   ]
  }
 ],
 "metadata": {
  "kernelspec": {
   "display_name": "base",
   "language": "python",
   "name": "python3"
  },
  "language_info": {
   "codemirror_mode": {
    "name": "ipython",
    "version": 3
   },
   "file_extension": ".py",
   "mimetype": "text/x-python",
   "name": "python",
   "nbconvert_exporter": "python",
   "pygments_lexer": "ipython3",
   "version": "3.9.15"
  },
  "orig_nbformat": 4
 },
 "nbformat": 4,
 "nbformat_minor": 2
}
